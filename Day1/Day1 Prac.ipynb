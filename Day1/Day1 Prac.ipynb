{
 "cells": [
  {
   "cell_type": "code",
   "execution_count": 4,
   "metadata": {},
   "outputs": [
    {
     "name": "stdout",
     "output_type": "stream",
     "text": [
      "Hello World!\n",
      "Hello World!\n",
      "Hello Karthik\n"
     ]
    }
   ],
   "source": [
    "#To print in seperate lines using just a single print statement \n",
    "print(\"Hello World!\\nHello World!\")\n",
    "#String Concat\n",
    "print(\"Hello\"+\" Karthik\")"
   ]
  },
  {
   "cell_type": "code",
   "execution_count": 7,
   "metadata": {},
   "outputs": [
    {
     "name": "stdout",
     "output_type": "stream",
     "text": [
      "What is your Name? akvyas\n",
      " What is your Name?askvyas\n",
      "Hello askvyas\n"
     ]
    }
   ],
   "source": [
    "#Input\n",
    "n=input(\"What is your Name? \")\n",
    "print(\"Hello \"+input(\" What is your Name?\"))"
   ]
  },
  {
   "cell_type": "code",
   "execution_count": 9,
   "metadata": {},
   "outputs": [
    {
     "name": "stdout",
     "output_type": "stream",
     "text": [
      "What is your name? ASKVYAS\n",
      "7\n",
      "What is your name?ASLVLLLLAA\n",
      "10\n"
     ]
    }
   ],
   "source": [
    "#no of characters in the given input\n",
    "name=input(\"What is your name? \")\n",
    "print(len(name))\n",
    "#Better way\n",
    "print(len(input(\"What is your name?\")))"
   ]
  },
  {
   "cell_type": "code",
   "execution_count": 12,
   "metadata": {},
   "outputs": [
    {
     "name": "stdout",
     "output_type": "stream",
     "text": [
      "a: 5\n",
      "b: 10\n",
      "10 5\n"
     ]
    }
   ],
   "source": [
    "#Swapping\n",
    "a=input(\"a: \")\n",
    "b=input(\"b: \")\n",
    "c=a\n",
    "a=b\n",
    "b=c\n",
    "print(a+\" \"+b)"
   ]
  },
  {
   "cell_type": "code",
   "execution_count": null,
   "metadata": {},
   "outputs": [],
   "source": []
  }
 ],
 "metadata": {
  "kernelspec": {
   "display_name": "Python 3",
   "language": "python",
   "name": "python3"
  },
  "language_info": {
   "codemirror_mode": {
    "name": "ipython",
    "version": 3
   },
   "file_extension": ".py",
   "mimetype": "text/x-python",
   "name": "python",
   "nbconvert_exporter": "python",
   "pygments_lexer": "ipython3",
   "version": "3.7.7"
  }
 },
 "nbformat": 4,
 "nbformat_minor": 4
}
