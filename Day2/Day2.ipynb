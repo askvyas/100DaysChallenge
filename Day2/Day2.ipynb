{
 "cells": [
  {
   "cell_type": "code",
   "execution_count": 18,
   "metadata": {},
   "outputs": [
    {
     "name": "stdout",
     "output_type": "stream",
     "text": [
      "Welcome to the tip calculator\n",
      "What was the total biil? $\n",
      "124.54\n",
      "How many people to split the bill? \n",
      "5\n",
      "What percentage of tip would you like to give? 10,12,15? \n",
      "12\n",
      "27.9\n"
     ]
    }
   ],
   "source": [
    "print(\"Welcome to the tip calculator\")\n",
    "print(\"What was the total biil? $\")\n",
    "t_bil=float(input())\n",
    "print(\"How many people to split the bill? \")\n",
    "ppl=int(input())\n",
    "print(\"What percentage of tip would you like to give? 10,12,15? \")\n",
    "tip_p=int(input())\n",
    "total_b=t_bil+(t_bil*(float(tip_p)/100))\n",
    "split=total_b/ppl\n",
    "print(round(split,2))\n"
   ]
  },
  {
   "cell_type": "code",
   "execution_count": null,
   "metadata": {},
   "outputs": [],
   "source": []
  },
  {
   "cell_type": "code",
   "execution_count": null,
   "metadata": {},
   "outputs": [],
   "source": []
  }
 ],
 "metadata": {
  "kernelspec": {
   "display_name": "Python 3",
   "language": "python",
   "name": "python3"
  },
  "language_info": {
   "codemirror_mode": {
    "name": "ipython",
    "version": 3
   },
   "file_extension": ".py",
   "mimetype": "text/x-python",
   "name": "python",
   "nbconvert_exporter": "python",
   "pygments_lexer": "ipython3",
   "version": "3.7.7"
  }
 },
 "nbformat": 4,
 "nbformat_minor": 4
}
