{
 "cells": [
  {
   "cell_type": "code",
   "execution_count": 1,
   "metadata": {},
   "outputs": [
    {
     "name": "stdout",
     "output_type": "stream",
     "text": [
      "enemies inside function: 2\n",
      "enemies outside function: 1\n"
     ]
    }
   ],
   "source": [
    "enemies = 1\n",
    "\n",
    "def increase_enemies():\n",
    "  enemies = 2\n",
    "  print(f\"enemies inside function: {enemies}\")\n",
    "\n",
    "increase_enemies()\n",
    "print(f\"enemies outside function: {enemies}\")"
   ]
  },
  {
   "cell_type": "code",
   "execution_count": 4,
   "metadata": {},
   "outputs": [
    {
     "name": "stdout",
     "output_type": "stream",
     "text": [
      "2\n"
     ]
    }
   ],
   "source": [
    "#Local Scope\n",
    "def drink_potion():\n",
    "    potion_strength=2\n",
    "    print(potion_strength)\n",
    "drink_potion()\n",
    "#print(potion_strength)"
   ]
  },
  {
   "cell_type": "code",
   "execution_count": 6,
   "metadata": {},
   "outputs": [
    {
     "name": "stdout",
     "output_type": "stream",
     "text": [
      "10\n"
     ]
    }
   ],
   "source": [
    "#Global Scope\n",
    "player_health=10\n",
    "def drink_pot():\n",
    "    potion_str=2\n",
    "    print(player_health)\n",
    "drink_pot()"
   ]
  },
  {
   "cell_type": "code",
   "execution_count": 9,
   "metadata": {},
   "outputs": [
    {
     "name": "stdout",
     "output_type": "stream",
     "text": [
      "Played\n"
     ]
    }
   ],
   "source": [
    "def game():\n",
    "    def play():\n",
    "        print(\"Played\")\n",
    "    play()\n",
    "game()\n",
    "#play()"
   ]
  },
  {
   "cell_type": "code",
   "execution_count": 14,
   "metadata": {},
   "outputs": [
    {
     "name": "stdout",
     "output_type": "stream",
     "text": [
      "Skeleton\n"
     ]
    }
   ],
   "source": [
    "#Ther is no Block Scope in python\n",
    "game_level=3\n",
    "l=[\"Skeleton\",\"Zombie\",\"Alies\"]\n",
    "if game_level<6:\n",
    "    new_enemy=l[0]\n",
    "print(new_enemy)\n",
    "\n",
    "game_level=3\n",
    "def create_enemy():\n",
    "    l=[\"Skeleton\",\"Zombie\",\"Alies\"]\n",
    "    if game_level<6:\n",
    "        new_enemy1=l[0]\n",
    "#print(new_enemy1)\n",
    "create_enemy()\n",
    "#if you create a variable in a function then its scope is till that function only\n",
    "#this is not the case with loops and if else statements\n"
   ]
  },
  {
   "cell_type": "code",
   "execution_count": 18,
   "metadata": {},
   "outputs": [
    {
     "name": "stdout",
     "output_type": "stream",
     "text": [
      "enemies inside function: 101\n",
      "enemies outside function: 101\n"
     ]
    }
   ],
   "source": [
    "enemies = 1\n",
    "\n",
    "def increase_enemies():\n",
    "    global enemies\n",
    "    enemies+=100\n",
    "   #enemies+=1 #not possible\n",
    "    print(f\"enemies inside function: {enemies}\")\n",
    "\n",
    "increase_enemies()\n",
    "print(f\"enemies outside function: {enemies}\")"
   ]
  },
  {
   "cell_type": "code",
   "execution_count": 20,
   "metadata": {},
   "outputs": [
    {
     "ename": "SyntaxError",
     "evalue": "invalid syntax (<ipython-input-20-9f4d87089a60>, line 2)",
     "output_type": "error",
     "traceback": [
      "\u001b[0;36m  File \u001b[0;32m\"<ipython-input-20-9f4d87089a60>\"\u001b[0;36m, line \u001b[0;32m2\u001b[0m\n\u001b[0;31m    global pi=3.145\u001b[0m\n\u001b[0m             ^\u001b[0m\n\u001b[0;31mSyntaxError\u001b[0m\u001b[0;31m:\u001b[0m invalid syntax\n"
     ]
    }
   ],
   "source": [
    "#Global Constants\n",
    "pi=3.145 #Global Constants are give as UPPERCASE\n"
   ]
  },
  {
   "cell_type": "code",
   "execution_count": null,
   "metadata": {},
   "outputs": [],
   "source": []
  }
 ],
 "metadata": {
  "kernelspec": {
   "display_name": "Python 3",
   "language": "python",
   "name": "python3"
  },
  "language_info": {
   "codemirror_mode": {
    "name": "ipython",
    "version": 3
   },
   "file_extension": ".py",
   "mimetype": "text/x-python",
   "name": "python",
   "nbconvert_exporter": "python",
   "pygments_lexer": "ipython3",
   "version": "3.7.7"
  }
 },
 "nbformat": 4,
 "nbformat_minor": 4
}
