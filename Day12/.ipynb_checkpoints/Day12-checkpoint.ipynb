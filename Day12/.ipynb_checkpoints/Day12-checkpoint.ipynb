{
 "cells": [
  {
   "cell_type": "code",
   "execution_count": 6,
   "metadata": {},
   "outputs": [
    {
     "name": "stdout",
     "output_type": "stream",
     "text": [
      "Welcome to the number guessing game\n",
      "I'm thinking of a number between 1 and 100\n",
      "Choose a difficulty.Type easy or hard hard\n",
      "You have 5 remaining \n",
      "Make a guess 30\n",
      "Too low \n",
      "You have 4 remaining \n",
      "Make a guess 50\n",
      "Too high \n",
      "You have 3 remaining \n",
      "Make a guess 40\n",
      "Too low \n",
      "You have 2 remaining \n",
      "Make a guess 45\n",
      "Too low \n",
      "You have 1 remaining \n",
      "Make a guess 46\n",
      "You are right\n",
      "You have run out of guesses\n",
      "The number was 46 \n"
     ]
    }
   ],
   "source": [
    "#Number guessing game\n",
    "def guess_val(n,t): #Function to compare actual number to that of the guessed number\n",
    "    if(t==n):\n",
    "        return 0\n",
    "    elif t>n:\n",
    "        return 1\n",
    "    else:\n",
    "        return -1\n",
    "import random\n",
    "num=random.randint(1,100)\n",
    "print(\"Welcome to the number guessing game\")\n",
    "print(\"I'm thinking of a number between 1 and 100\")\n",
    "diff=input(\"Choose a difficulty.Type easy or hard \")\n",
    "if(diff==\"hard\"):\n",
    "    chances=5\n",
    "    \n",
    "else:\n",
    "    chances=10\n",
    "while chances>0: #Till chances become 0 this loop runs\n",
    "    #it asks for each and every iteration for the user to guess a number and then it uses\n",
    "    #the 'guess_val' function to check wet\n",
    "        print(f\"You have {chances} remaining \")\n",
    "        tp=int(input(\"Make a guess \"))\n",
    "        g_val=guess_val(num,tp)\n",
    "        if(g_val==0):\n",
    "            print(f\"You are right\")\n",
    "            chances=0\n",
    "        elif g_val==1:\n",
    "            print(\"Too high \")\n",
    "            chances=chances-1\n",
    "        elif g_val==-1:\n",
    "            print(\"Too low \")\n",
    "            chances=chances-1\n",
    "if(chances==0):\n",
    "    print(\"You have run out of guesses\")\n",
    "    print(f\"The number was {num} \")\n",
    "    \n",
    "    "
   ]
  },
  {
   "cell_type": "code",
   "execution_count": null,
   "metadata": {},
   "outputs": [],
   "source": []
  }
 ],
 "metadata": {
  "kernelspec": {
   "display_name": "Python 3",
   "language": "python",
   "name": "python3"
  },
  "language_info": {
   "codemirror_mode": {
    "name": "ipython",
    "version": 3
   },
   "file_extension": ".py",
   "mimetype": "text/x-python",
   "name": "python",
   "nbconvert_exporter": "python",
   "pygments_lexer": "ipython3",
   "version": "3.7.7"
  }
 },
 "nbformat": 4,
 "nbformat_minor": 4
}
