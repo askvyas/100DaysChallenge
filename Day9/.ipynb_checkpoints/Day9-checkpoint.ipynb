{
 "cells": [
  {
   "cell_type": "markdown",
   "metadata": {},
   "source": [
    "Silent Auctioning\n"
   ]
  },
  {
   "cell_type": "code",
   "execution_count": 7,
   "metadata": {},
   "outputs": [
    {
     "name": "stdout",
     "output_type": "stream",
     "text": [
      "\n",
      "                         ___________\n",
      "                         \\         /\n",
      "                          )_______(\n",
      "                          |\"\"\"\"\"\"\"|_.-._,.---------.,_.-._\n",
      "                          |       | | |               | | ''-.\n",
      "                          |       |_| |_             _| |_..-'\n",
      "                          |_______| '-' `'---------'` '-'\n",
      "                          )\"\"\"\"\"\"\"(\n",
      "                         /_________\\\n",
      "                       .-------------.\n",
      "                      /_______________\\\n",
      "\n",
      "What is your name? raj\n",
      "What is your bid? $200\n",
      "Are there other bidders ?no\n",
      "The winner is raj with the bid of 200\n"
     ]
    }
   ],
   "source": [
    "from IPython.display import clear_output\n",
    "import art\n",
    "print(art.logo)\n",
    "print(\"Welcome To Secret Auction Program\")\n",
    "bid={}\n",
    "while(True):\n",
    "    n=input(\"What is your name? \")\n",
    "    b=int(input(\"What is your bid? $\"))\n",
    "    bid[n]=b\n",
    "    ot=input(\"Are there other bidders ?\").lower()\n",
    "    if(ot==\"yes\"):\n",
    "        clear_output()\n",
    "        print(art.logo)\n",
    "        \n",
    "    else:\n",
    "        break;\n",
    "max_bid=0\n",
    "winner=\"\"\n",
    "for key in bid:\n",
    "    if(bid[key]>max_bid):\n",
    "        max_bid=bid[key]\n",
    "        winner=key\n",
    "print(f\"The winner is {winner} with the bid of {max_bid}\")"
   ]
  },
  {
   "cell_type": "code",
   "execution_count": null,
   "metadata": {},
   "outputs": [],
   "source": []
  }
 ],
 "metadata": {
  "kernelspec": {
   "display_name": "Python 3",
   "language": "python",
   "name": "python3"
  },
  "language_info": {
   "codemirror_mode": {
    "name": "ipython",
    "version": 3
   },
   "file_extension": ".py",
   "mimetype": "text/x-python",
   "name": "python",
   "nbconvert_exporter": "python",
   "pygments_lexer": "ipython3",
   "version": "3.7.7"
  }
 },
 "nbformat": 4,
 "nbformat_minor": 4
}
