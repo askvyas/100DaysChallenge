{
 "cells": [
  {
   "cell_type": "code",
   "execution_count": null,
   "metadata": {},
   "outputs": [
    {
     "name": "stdout",
     "output_type": "stream",
     "text": [
      "Do you wanna play a game of black jacky\n",
      "Do you want a cardy\n",
      "Your final hand 10, 10, 9 your final Score 29\n",
      "Computer final hand 10, 2, 8 and final Score 20\n",
      "You went over. You Lose\n"
     ]
    }
   ],
   "source": [
    "import random\n",
    "import art\n",
    "card=[11,2,3,4,5,6,7,8,9,10,10,10,10]\n",
    "def want_card(l):\n",
    "    l.append(random.choice(card))\n",
    "    \n",
    "def listToString(s):  \n",
    "    return str(s)[1:-1]  \n",
    "    \n",
    "   \n",
    "        \n",
    "\n",
    "    \n",
    "\n",
    "def check_gm(c_gm):\n",
    "    pl_s=sum(c_gm[\"Player\"])\n",
    "    pl_d=sum(c_gm[\"Dealer\"])\n",
    "    \n",
    "    \n",
    "    print(f\"Your final hand \" +listToString(c_gm[\"Player\"])+ f\" your final Score {pl_s}\")\n",
    "    print(f\"Computer final hand \"+listToString(c_gm[\"Dealer\"]) + f\" and final Score {pl_d}\")\n",
    "    \n",
    "    if ((pl_d)<21 and (pl_s<pl_d)) or (pl_s>21):\n",
    "        if pl_s>21 :\n",
    "            print(\"You went over. You Lose\")\n",
    "        else:\n",
    "            print(f\"Computer's score {pl_d} was close to 21. You Lose {pl_s}\")\n",
    "    \n",
    "gam_e=input(\"Do you wanna play a game of black jack\")\n",
    "while(True):\n",
    "    c_gm={}\n",
    "    c_gm[\"Dealer\"]=[random.choice(card)]\n",
    "    c_gm[\"Player\"]=[random.choice(card),random.choice(card)]\n",
    "    \n",
    "    get_c=input(\"Do you want a card\")\n",
    "    if(get_c==\"y\"):\n",
    "        want_card(c_gm[\"Player\"])\n",
    "        want_card(c_gm[\"Dealer\"])\n",
    "    else:\n",
    "        want_card(c_gm[\"Dealer\"])\n",
    "    if(sum(c_gm[\"Dealer\"])<17):\n",
    "        want_card(c_gm[\"Dealer\"])\n",
    "    check_gm(c_gm)\n",
    "        \n",
    "        \n",
    "        \n",
    "        "
   ]
  },
  {
   "cell_type": "code",
   "execution_count": null,
   "metadata": {},
   "outputs": [
    {
     "name": "stdout",
     "output_type": "stream",
     "text": [
      "Do you wanna play a game of black jacky\n",
      "\n",
      ".------.            _     _            _    _            _    \n",
      "|A_  _ |.          | |   | |          | |  (_)          | |   \n",
      "|( \\/ ).-----.     | |__ | | __ _  ___| | ___  __ _  ___| | __\n",
      "| \\  /|K /\\  |     | '_ \\| |/ _` |/ __| |/ / |/ _` |/ __| |/ /\n",
      "|  \\/ | /  \\ |     | |_) | | (_| | (__|   <| | (_| | (__|   < \n",
      "`-----| \\  / |     |_.__/|_|\\__,_|\\___|_|\\_\\ |\\__,_|\\___|_|\\_\\\n",
      "      |  \\/ K|                            _/ |                \n",
      "      `------'                           |__/           \n",
      "\n"
     ]
    }
   ],
   "source": [
    "from IPython.display import clear_output\n",
    "\n",
    "import random\n",
    "import art\n",
    "card=[11,2,3,4,5,6,7,8,9,10,10,10,10]\n",
    "def want_card(l):\n",
    "    l.append(random.choice(card))\n",
    "    \n",
    "def listToString(s):  \n",
    "    return str(s)[1:-1]  \n",
    "    \n",
    "def stp2(c_gm):\n",
    "        get_c=input(\"Do you want a card\")\n",
    "        flg=True\n",
    "        while(flg):\n",
    "            if(get_c==\"y\"):\n",
    "                want_card(c_gm[\"Player\"])\n",
    "                want_card(c_gm[\"Dealer\"])\n",
    "                flg=False\n",
    "            else:\n",
    "                want_card(c_gm[\"Dealer\"])\n",
    "                break\n",
    "            if(sum(c_gm[\"Dealer\"])<17):\n",
    "                 want_card(c_gm[\"Dealer\"])\n",
    "   \n",
    "        \n",
    "\n",
    "    \n",
    "\n",
    "def check_gm(c_gm):\n",
    "    pl_s=sum(c_gm[\"Player\"])\n",
    "    pl_d=sum(c_gm[\"Dealer\"])\n",
    "    \n",
    "    \n",
    "    print(f\"Your final hand \" +listToString(c_gm[\"Player\"])+ f\" your final Score {pl_s}\")\n",
    "    print(f\"Computer final hand \"+listToString(c_gm[\"Dealer\"]) + f\" and final Score {pl_d}\")\n",
    "    \n",
    "    if ((pl_d)<=21 and (pl_s<pl_d)) or (pl_s>21):\n",
    "        if pl_s>21 :\n",
    "            print(\"You went over. You Lose\")\n",
    "        else:\n",
    "            print(f\"Computer's score {pl_d} was close to 21. You Lose\")\n",
    "    elif ((pl_s)<=21 and (pl_d<pl_s)) or (pl_d>21):\n",
    "        if pl_s>21 :\n",
    "            print(\"Computer went over. You Win\")\n",
    "        else:\n",
    "            print(f\"Your  score {pl_s} was close to 21. You Win\")\n",
    "        \n",
    "    \n",
    "\n",
    "\n",
    "def play():\n",
    "    \n",
    "    flag=True\n",
    "    while(flag):\n",
    "        print(art.logo)\n",
    "        \n",
    "        c_gm={}\n",
    "        c_gm[\"Dealer\"]=[random.choice(card)]\n",
    "        c_gm[\"Player\"]=[random.choice(card),random.choice(card)]\n",
    "        p_cs=sum(c_gm[\"Player\"])\n",
    "        p_cs=sum(c_gm[\"Dealer\"])\n",
    "        \n",
    "        print(\"Your Cards\"+listToString(c_gm[\"Player\"])+\" \")\n",
    "\n",
    "        stp2(c_gm)\n",
    "        check_gm(c_gm)\n",
    "        gam_e2=input(\"Do you wanna play a game of black jack\")\n",
    "        if(gam_e2==\"y\"):\n",
    "            clear_output()\n",
    "            play()\n",
    "            \n",
    "        else:\n",
    "            flag=False\n",
    "\n",
    "gam_e=input(\"Do you wanna play a game of black jack\")            \n",
    "play()        \n",
    "   \n",
    "    \n",
    "        \n",
    "    "
   ]
  },
  {
   "cell_type": "code",
   "execution_count": 13,
   "metadata": {},
   "outputs": [
    {
     "data": {
      "text/plain": [
       "95"
      ]
     },
     "execution_count": 13,
     "metadata": {},
     "output_type": "execute_result"
    }
   ],
   "source": [
    "sum(card)"
   ]
  },
  {
   "cell_type": "code",
   "execution_count": null,
   "metadata": {},
   "outputs": [],
   "source": []
  }
 ],
 "metadata": {
  "kernelspec": {
   "display_name": "Python 3",
   "language": "python",
   "name": "python3"
  }
 },
 "nbformat": 4,
 "nbformat_minor": 4
}
