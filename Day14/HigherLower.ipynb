{
 "cells": [
  {
   "cell_type": "code",
   "execution_count": 3,
   "metadata": {},
   "outputs": [
    {
     "data": {
      "text/plain": [
       "50"
      ]
     },
     "execution_count": 3,
     "metadata": {},
     "output_type": "execute_result"
    }
   ],
   "source": [
    "#Higher lower game \n",
    "from IPython.display import clear_output\n",
    "import random\n",
    "import art\n",
    "from game_data import data\n",
    "len(data)"
   ]
  },
  {
   "cell_type": "code",
   "execution_count": 25,
   "metadata": {},
   "outputs": [
    {
     "name": "stdout",
     "output_type": "stream",
     "text": [
      "\n",
      "    __  ___       __             \n",
      "   / / / (_)___ _/ /_  ___  _____\n",
      "  / /_/ / / __ `/ __ \\/ _ \\/ ___/\n",
      " / __  / / /_/ / / / /  __/ /    \n",
      "/_/ ///_/\\__, /_/ /_/\\___/_/     \n",
      "   / /  /____/_      _____  _____\n",
      "  / /   / __ \\ | /| / / _ \\/ ___/\n",
      " / /___/ /_/ / |/ |/ /  __/ /    \n",
      "/_____/\\____/|__/|__/\\___/_/     \n",
      "\n",
      "Compare A: Chris Brown a Musician from United States\n",
      "\n",
      " _    __    \n",
      "| |  / /____\n",
      "| | / / ___/\n",
      "| |/ (__  ) \n",
      "|___/____(_)\n",
      "\n",
      "Compare B: Neymar a Footballer from Brasil\n",
      "Who has more followers? Type 'A' or 'B' B\n",
      "Your Right! Current Score 1\n",
      "\n",
      "    __  ___       __             \n",
      "   / / / (_)___ _/ /_  ___  _____\n",
      "  / /_/ / / __ `/ __ \\/ _ \\/ ___/\n",
      " / __  / / /_/ / / / /  __/ /    \n",
      "/_/ ///_/\\__, /_/ /_/\\___/_/     \n",
      "   / /  /____/_      _____  _____\n",
      "  / /   / __ \\ | /| / / _ \\/ ___/\n",
      " / /___/ /_/ / |/ |/ /  __/ /    \n",
      "/_____/\\____/|__/|__/\\___/_/     \n",
      "\n",
      "Compare A: Neymar a Footballer from Brasil\n",
      "\n",
      " _    __    \n",
      "| |  / /____\n",
      "| | / / ___/\n",
      "| |/ (__  ) \n",
      "|___/____(_)\n",
      "\n",
      "Compare B: Drake a Musician from Canada\n",
      "Who has more followers? Type 'A' or 'B' B\n",
      "Wrong Answer. Your score was 1\n"
     ]
    }
   ],
   "source": [
    "#S2 Define a function to play\n",
    "count=0\n",
    "#S4 A function to increment count variable\n",
    "def inc_cnt():\n",
    "    global count\n",
    "    count=count+1\n",
    "def play(a,b):\n",
    "    #S1 Get 2 random integer valuesd\n",
    "\n",
    "    \n",
    "\n",
    "    print(art.logo)\n",
    "    if(a!=b):\n",
    "        print(\"Compare A: \"+f\"{data[a]['name']} a {data[a]['description']} from {data[a]['country']}\")\n",
    "        print(art.vs)\n",
    "        print(\"Compare B: \"+f\"{data[b]['name']} a {data[b]['description']} from {data[b]['country']}\")\n",
    "        #S3 get user input to for his guess of who has more followers\n",
    "        user_ch=input(\"Who has more followers? Type 'A' or 'B' \")\n",
    "        if(user_ch=='A'):\n",
    "            if(data[a]['follower_count']>data[b]['follower_count']):\n",
    "                inc_cnt()\n",
    "                print(f\"Your Right! Current Score {count}\")\n",
    "                play(b,random.randint(0,49))\n",
    "            else:\n",
    "                print(f\"Wrong Answer. Your score was {count}\")\n",
    "                \n",
    "                return\n",
    "        elif(user_ch=='B'):\n",
    "            if(data[b]['follower_count']>data[a]['follower_count']):\n",
    "                inc_cnt()\n",
    "                print(f\"Your Right! Current Score {count}\")\n",
    "                play(b,random.randint(0,49))\n",
    "                \n",
    "                \n",
    "                \n",
    "            else:\n",
    "                print(f\"Wrong Answer. Your score was {count}\")\n",
    "                return\n",
    "            \n",
    "            \n",
    "        \n",
    "a=random.randint(0,49)\n",
    "b=random.randint(0,49)\n",
    "        \n",
    "play(a,b)       \n",
    "\n"
   ]
  },
  {
   "cell_type": "code",
   "execution_count": 26,
   "metadata": {},
   "outputs": [
    {
     "ename": "ModuleNotFoundError",
     "evalue": "No module named 'replit'",
     "output_type": "error",
     "traceback": [
      "\u001b[0;31m---------------------------------------------------------------------------\u001b[0m",
      "\u001b[0;31mModuleNotFoundError\u001b[0m                       Traceback (most recent call last)",
      "\u001b[0;32m<ipython-input-26-e8efc8e87344>\u001b[0m in \u001b[0;36m<module>\u001b[0;34m\u001b[0m\n\u001b[1;32m      2\u001b[0m \u001b[0;32mimport\u001b[0m \u001b[0mrandom\u001b[0m\u001b[0;34m\u001b[0m\u001b[0;34m\u001b[0m\u001b[0m\n\u001b[1;32m      3\u001b[0m \u001b[0;32mfrom\u001b[0m \u001b[0mart\u001b[0m \u001b[0;32mimport\u001b[0m \u001b[0mlogo\u001b[0m\u001b[0;34m,\u001b[0m \u001b[0mvs\u001b[0m\u001b[0;34m\u001b[0m\u001b[0;34m\u001b[0m\u001b[0m\n\u001b[0;32m----> 4\u001b[0;31m \u001b[0;32mfrom\u001b[0m \u001b[0mreplit\u001b[0m \u001b[0;32mimport\u001b[0m \u001b[0mclear\u001b[0m\u001b[0;34m\u001b[0m\u001b[0;34m\u001b[0m\u001b[0m\n\u001b[0m\u001b[1;32m      5\u001b[0m \u001b[0;34m\u001b[0m\u001b[0m\n\u001b[1;32m      6\u001b[0m \u001b[0;32mdef\u001b[0m \u001b[0mget_random_account\u001b[0m\u001b[0;34m(\u001b[0m\u001b[0;34m)\u001b[0m\u001b[0;34m:\u001b[0m\u001b[0;34m\u001b[0m\u001b[0;34m\u001b[0m\u001b[0m\n",
      "\u001b[0;31mModuleNotFoundError\u001b[0m: No module named 'replit'"
     ]
    }
   ],
   "source": [
    "from game_data import data\n",
    "import random\n",
    "from art import logo, vs\n",
    "from replit import clear\n",
    "\n",
    "def get_random_account():\n",
    "  \"\"\"Get data from random account\"\"\"\n",
    "  return random.choice(data)\n",
    "\n",
    "def format_data(account):\n",
    "  \"\"\"Format account into printable format: name, description and country\"\"\"\n",
    "  name = account[\"name\"]\n",
    "  description = account[\"description\"]\n",
    "  country = account[\"country\"]\n",
    "  # print(f'{name}: {account[\"follower_count\"]}')\n",
    "  return f\"{name}, a {description}, from {country}\"\n",
    "\n",
    "def check_answer(guess, a_followers, b_followers):\n",
    "  \"\"\"Checks followers against user's guess \n",
    "  and returns True if they got it right.\n",
    "  Or False if they got it wrong.\"\"\" \n",
    "  if a_followers > b_followers:\n",
    "    return guess == \"a\"\n",
    "  else:\n",
    "    return guess == \"b\"\n",
    "\n",
    "\n",
    "def game():\n",
    "  print(logo)\n",
    "  score = 0\n",
    "  game_should_continue = True\n",
    "  account_a = get_random_account()\n",
    "  account_b = get_random_account()\n",
    "\n",
    "  while game_should_continue:\n",
    "    account_a = account_b\n",
    "    account_b = get_random_account()\n",
    "\n",
    "    while account_a == account_b:\n",
    "      account_b = get_random_account()\n",
    "\n",
    "    print(f\"Compare A: {format_data(account_a)}.\")\n",
    "    print(vs)\n",
    "    print(f\"Against B: {format_data(account_b)}.\")\n",
    "    \n",
    "    guess = input(\"Who has more followers? Type 'A' or 'B': \").lower()\n",
    "    a_follower_count = account_a[\"follower_count\"]\n",
    "    b_follower_count = account_b[\"follower_count\"]\n",
    "    is_correct = check_answer(guess, a_follower_count, b_follower_count)\n",
    "\n",
    "    clear()\n",
    "    print(logo)\n",
    "    if is_correct:\n",
    "      score += 1\n",
    "      print(f\"You're right! Current score: {score}.\")\n",
    "    else:\n",
    "      game_should_continue = False\n",
    "      print(f\"Sorry, that's wrong. Final score: {score}\")\n",
    "\n",
    "game()\n",
    "\n",
    "\n",
    "# Generate a random account from the game data.\n",
    "\n",
    "# Format account data into printable format.\n",
    "\n",
    "# Ask user for a guess.\n",
    "\n",
    "# Check if user is correct.\n",
    "## Get follower count.\n",
    "## If Statement\n",
    "\n",
    "# Feedback.\n",
    "\n",
    "# Score Keeping.\n",
    "\n",
    "# Make game repeatable.\n",
    "\n",
    "# Make B become the next A.\n",
    "\n",
    "# Add art.\n",
    "\n",
    "# Clear screen between rounds."
   ]
  },
  {
   "cell_type": "code",
   "execution_count": 9,
   "metadata": {},
   "outputs": [
    {
     "data": {
      "text/plain": [
       "9"
      ]
     },
     "execution_count": 9,
     "metadata": {},
     "output_type": "execute_result"
    }
   ],
   "source": []
  },
  {
   "cell_type": "code",
   "execution_count": null,
   "metadata": {},
   "outputs": [],
   "source": []
  }
 ],
 "metadata": {
  "kernelspec": {
   "display_name": "Python 3",
   "language": "python",
   "name": "python3"
  },
  "language_info": {
   "codemirror_mode": {
    "name": "ipython",
    "version": 3
   },
   "file_extension": ".py",
   "mimetype": "text/x-python",
   "name": "python",
   "nbconvert_exporter": "python",
   "pygments_lexer": "ipython3",
   "version": "3.7.7"
  }
 },
 "nbformat": 4,
 "nbformat_minor": 4
}
