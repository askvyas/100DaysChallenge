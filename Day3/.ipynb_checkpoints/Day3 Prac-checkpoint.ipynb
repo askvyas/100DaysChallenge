{
 "cells": [
  {
   "cell_type": "code",
   "execution_count": 4,
   "metadata": {},
   "outputs": [
    {
     "name": "stdout",
     "output_type": "stream",
     "text": [
      "Enter a number5\n",
      "Odd\n"
     ]
    }
   ],
   "source": [
    "#OddEven \n",
    "number=int(input(\"Enter a number\"))\n",
    "if (number%2)==0:\n",
    "    print(\"Even\")\n",
    "else :\n",
    "    print(\"Odd\")"
   ]
  },
  {
   "cell_type": "code",
   "execution_count": 10,
   "metadata": {},
   "outputs": [
    {
     "name": "stdout",
     "output_type": "stream",
     "text": [
      "weight: 85\n",
      "height: 1.75\n",
      "Your BMI is 28, you are slightly overweight\n"
     ]
    }
   ],
   "source": [
    "#BMI\n",
    "w=int(input(\"weight: \"))\n",
    "h=float(input(\"height: \"))\n",
    "bmi=round(w/(h*h))\n",
    "if bmi<18.5:\n",
    "    print(\"Your BMI is \"+str(bmi)+ \", you are underweight\")\n",
    "elif (bmi>18.5)and(bmi<25):\n",
    "    print(\"Your BMI is \"+str(bmi) +\", you are normal weight\")\n",
    "elif (bmi>25)and(bmi<30):\n",
    "    print(\"Your BMI is \"+str(bmi) +\", you are slightly overweight\")\n",
    "elif (bmi>30)and(bmi<35):\n",
    "    print(\"Your BMI is \"+str(bmi) +\", you are obese\")\n",
    "elif (bmi>35):\n",
    "    print(\"Your BMI is \"+str(bmi) +\", you are clinically obese\")\n",
    "\n",
    "\n",
    "    "
   ]
  },
  {
   "cell_type": "code",
   "execution_count": 15,
   "metadata": {},
   "outputs": [
    {
     "name": "stdout",
     "output_type": "stream",
     "text": [
      "1989\n",
      "Not Leap Year\n"
     ]
    }
   ],
   "source": [
    "#Leap\n",
    "year=int(input())\n",
    "if(year%400==0):\n",
    "    print(\"Leap\")\n",
    "elif(year%4==0):\n",
    "    if(year%100==0):\n",
    "        print(\"Not Leap Year\")\n",
    "    else:\n",
    "        print(\"Leap\")\n",
    "else:\n",
    "    print(\"Not Leap Year\")"
   ]
  },
  {
   "cell_type": "code",
   "execution_count": 27,
   "metadata": {},
   "outputs": [
    {
     "name": "stdout",
     "output_type": "stream",
     "text": [
      "Size = Y\n",
      "add_peperoni = Y\n",
      "add_cheese = Y\n",
      "Your final bill is: $28\n"
     ]
    }
   ],
   "source": [
    "size=input(\"Size = \")\n",
    "ad_pep=input(\"add_peperoni = \")\n",
    "cheese=input(\"add_cheese = \")\n",
    "if(size==\"S\"):\n",
    "    res=15\n",
    "    if(ad_pep==\"Y\"):\n",
    "        res+=2\n",
    "    if(cheese==\"Y\"):\n",
    "        res+=1\n",
    "elif(size==\"M\"):\n",
    "    res=20\n",
    "    if(ad_pep==\"Y\"):\n",
    "        res+=3\n",
    "    if(cheese==\"Y\"):\n",
    "        res+=1\n",
    "    \n",
    "elif(size==\"L\"):\n",
    "    res=25\n",
    "    if(ad_pep==\"Y\"):\n",
    "        res+=3\n",
    "    if(cheese==\"Y\"):\n",
    "        res+=1\n",
    "\n",
    "        \n",
    "print(\"Your final bill is: $\"+str(res))\n"
   ]
  },
  {
   "cell_type": "code",
   "execution_count": 44,
   "metadata": {},
   "outputs": [
    {
     "name": "stdout",
     "output_type": "stream",
     "text": [
      "Welcome to the love Calculator\n",
      "\n",
      "What is your name?abc\n",
      "What is their name?abc\n",
      "Your score is 0 you go together like coke and mentos.\n"
     ]
    }
   ],
   "source": [
    "#Challenge\n",
    "print(\"Welcome to the love Calculator\\n\")\n",
    "a=input(\"What is your name?\").lower()\n",
    "b=input(\"What is their name?\").lower()\n",
    "s1=a.count('t')+a.count('r')+a.count('u')+a.count('e')+b.count('t')+b.count('r')+b.count('u')+b.count('e')\n",
    "s2=a.count('l')+a.count('o')+a.count('v')+a.count('e')+b.count('l')+b.count('o')+b.count('v')+b.count('e')\n",
    "re=str(s1)+str(s2)\n",
    "r=int(re)\n",
    "if (r<10) or (r>90):\n",
    "    print(\"Your score is \"+str(r) +\" you go together like coke and mentos.\")\n",
    "elif (r>40) and (r<50):\n",
    "    print(\"Your score is \"+str(r)+\" you are alright together.\")\n",
    "else:\n",
    "    print(\"Your score is \"+str(r)+\".\")"
   ]
  },
  {
   "cell_type": "code",
   "execution_count": null,
   "metadata": {},
   "outputs": [],
   "source": []
  }
 ],
 "metadata": {
  "kernelspec": {
   "display_name": "Python 3",
   "language": "python",
   "name": "python3"
  },
  "language_info": {
   "codemirror_mode": {
    "name": "ipython",
    "version": 3
   },
   "file_extension": ".py",
   "mimetype": "text/x-python",
   "name": "python",
   "nbconvert_exporter": "python",
   "pygments_lexer": "ipython3",
   "version": "3.7.7"
  }
 },
 "nbformat": 4,
 "nbformat_minor": 4
}
