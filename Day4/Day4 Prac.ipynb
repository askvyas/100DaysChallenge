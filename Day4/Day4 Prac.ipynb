{
 "cells": [
  {
   "cell_type": "code",
   "execution_count": 22,
   "metadata": {},
   "outputs": [
    {
     "name": "stdout",
     "output_type": "stream",
     "text": [
      "17\n",
      "0.060159419401531244\n"
     ]
    }
   ],
   "source": [
    "#Random\n",
    "import random as rd\n",
    "a=rd.randint(10,20)\n",
    "print(a)\n",
    "rd_float=random.random()\n",
    "print(rd_float)"
   ]
  },
  {
   "cell_type": "code",
   "execution_count": 18,
   "metadata": {},
   "outputs": [
    {
     "name": "stdout",
     "output_type": "stream",
     "text": [
      "3.14134\n"
     ]
    }
   ],
   "source": [
    "#Working with modules\n",
    "import os\n",
    "pat=os.getcwd()\n",
    "os.chdir(pat)\n",
    "import Module1 as md\n",
    "print(md.pi)\n"
   ]
  },
  {
   "cell_type": "code",
   "execution_count": 25,
   "metadata": {},
   "outputs": [
    {
     "name": "stdout",
     "output_type": "stream",
     "text": [
      "Tails\n"
     ]
    }
   ],
   "source": [
    "#Heads or Tails\n",
    "a=rd.randint(0,1)\n",
    "if(a==0):\n",
    "    print(\"Heads\")\n",
    "else:\n",
    "    print(\"Tails\")"
   ]
  },
  {
   "cell_type": "code",
   "execution_count": 29,
   "metadata": {},
   "outputs": [
    {
     "name": "stdout",
     "output_type": "stream",
     "text": [
      "Give me everybody's names, separated by a comma. KArthik, vyas, akondi\n",
      "vyas is going to pay the bill!\n",
      "akondi\n"
     ]
    }
   ],
   "source": [
    "#Lists Who will pay the bill\n",
    "\n",
    "names_string = input(\"Give me everybody's names, separated by a comma. \")\n",
    "names = names_string.split(\", \")\n",
    "a=len(names)\n",
    "r=rd.randint(0,a-1)\n",
    "print(f\"{names[r]} is going to pay the bill!\")\n",
    "#or using choice()\n",
    "res=rd.choice(names)\n",
    "print(res)"
   ]
  },
  {
   "cell_type": "code",
   "execution_count": null,
   "metadata": {},
   "outputs": [],
   "source": []
  }
 ],
 "metadata": {
  "kernelspec": {
   "display_name": "Python 3",
   "language": "python",
   "name": "python3"
  },
  "language_info": {
   "codemirror_mode": {
    "name": "ipython",
    "version": 3
   },
   "file_extension": ".py",
   "mimetype": "text/x-python",
   "name": "python",
   "nbconvert_exporter": "python",
   "pygments_lexer": "ipython3",
   "version": "3.7.7"
  }
 },
 "nbformat": 4,
 "nbformat_minor": 4
}
