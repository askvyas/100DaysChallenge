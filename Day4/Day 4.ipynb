{
 "cells": [
  {
   "cell_type": "code",
   "execution_count": 3,
   "metadata": {},
   "outputs": [],
   "source": [
    "# Rock Paper scissors\n",
    "import random as rd\n",
    "rock = '''\n",
    "    _______\n",
    "---'   ____)\n",
    "      (_____)\n",
    "      (_____)\n",
    "      (____)\n",
    "---.__(___)\n",
    "'''\n",
    "\n",
    "paper = '''\n",
    "    _______\n",
    "---'   ____)____\n",
    "          ______)\n",
    "          _______)\n",
    "         _______)\n",
    "---.__________)\n",
    "'''\n",
    "\n",
    "scissors = '''\n",
    "    _______\n",
    "---'   ____)____\n",
    "          ______)\n",
    "       __________)\n",
    "      (____)\n",
    "---.__(___)\n",
    "'''\n",
    "l=[rock,paper,scissors]\n",
    "\n"
   ]
  },
  {
   "cell_type": "code",
   "execution_count": 12,
   "metadata": {},
   "outputs": [
    {
     "name": "stdout",
     "output_type": "stream",
     "text": [
      "What do you want to choose? Type 0 for rock, Type 1 for Paper and 2 for Sicssors2\n",
      "\n",
      "    _______\n",
      "---'   ____)____\n",
      "          ______)\n",
      "       __________)\n",
      "      (____)\n",
      "---.__(___)\n",
      "\n",
      "Computer's Choice\n",
      "\n",
      "    _______\n",
      "---'   ____)\n",
      "      (_____)\n",
      "      (_____)\n",
      "      (____)\n",
      "---.__(___)\n",
      "\n",
      "You Loose\n"
     ]
    }
   ],
   "source": [
    "choice=int(input(\"What do you want to choose? Type 0 for rock, Type 1 for Paper and 2 for Sicssors\"))\n",
    "comp=rd.randint(0,2)\n",
    "print(l[choice])\n",
    "print(\"Computer's Choice\")\n",
    "print(l[comp])\n",
    "if(choice==comp):\n",
    "    print(\"It's a draw\")\n",
    "else:\n",
    "    if (choice==0)and(comp==1):\n",
    "        print(\"You Loose\")\n",
    "    elif (choice==0)and(comp==2):\n",
    "        print(\"You Win\")\n",
    "    elif (choice==1)and(comp==0):\n",
    "        print(\"You Win\")\n",
    "    elif (choice==1)and(comp==2):\n",
    "        print(\"You Loose\")\n",
    "    elif (choice==2)and(comp==0):\n",
    "        print(\"You Loose\")\n",
    "    elif (choice==2)and(comp==1):\n",
    "        print(\"You win\")\n",
    "        "
   ]
  },
  {
   "cell_type": "code",
   "execution_count": null,
   "metadata": {},
   "outputs": [],
   "source": []
  }
 ],
 "metadata": {
  "kernelspec": {
   "display_name": "Python 3",
   "language": "python",
   "name": "python3"
  },
  "language_info": {
   "codemirror_mode": {
    "name": "ipython",
    "version": 3
   },
   "file_extension": ".py",
   "mimetype": "text/x-python",
   "name": "python",
   "nbconvert_exporter": "python",
   "pygments_lexer": "ipython3",
   "version": "3.7.7"
  }
 },
 "nbformat": 4,
 "nbformat_minor": 4
}
