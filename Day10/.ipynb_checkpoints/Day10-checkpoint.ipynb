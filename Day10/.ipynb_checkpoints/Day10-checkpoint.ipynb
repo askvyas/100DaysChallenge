{
 "cells": [
  {
   "cell_type": "code",
   "execution_count": 1,
   "metadata": {},
   "outputs": [],
   "source": [
    "#Calculator\n",
    "from IPython.display import clear_output\n",
    "import art\n",
    "#clear_output(wait=True)\n",
    "\n"
   ]
  },
  {
   "cell_type": "code",
   "execution_count": 19,
   "metadata": {},
   "outputs": [],
   "source": [
    "#functions for calc \n",
    "def add(a,b):\n",
    "    return a+b\n",
    "def sub(a,b):\n",
    "    return a-b\n",
    "def mul(a,b):\n",
    "    return a*b\n",
    "def divi(a,b):\n",
    "    return a/b\n",
    "\n",
    "ope={}\n",
    "ope[\"+\"]=add\n",
    "ope[\"-\"]=sub\n",
    "ope[\"*\"]=mul\n",
    "ope[\"/\"]=divi\n",
    "    "
   ]
  },
  {
   "cell_type": "code",
   "execution_count": 26,
   "metadata": {},
   "outputs": [
    {
     "name": "stdout",
     "output_type": "stream",
     "text": [
      "What is the first number10\n",
      "What is the second number23\n",
      "+\n",
      "-\n",
      "*\n",
      "/\n",
      "pick an operation from above+\n",
      "10 + 23 = 33\n",
      "+\n",
      "-\n",
      "*\n",
      "/\n",
      "pick another operation from above/\n",
      "What is the second number11\n",
      "33 / 11 = 3.0\n"
     ]
    }
   ],
   "source": [
    "num1=int(input(\"What is the first number\"))\n",
    "num2=int(input(\"What is the second number\"))\n",
    "for key in ope:\n",
    "    print(key)\n",
    "choice_op=input(\"pick an operation from above\")\n",
    "fun=ope[choice_op]\n",
    "answer=fun(num1,num2)\n",
    "\n",
    "print(f\"{num1} {choice_op} {num2} = {answer}\")\n",
    "\n",
    "for key in ope:\n",
    "    print(key)\n",
    "\n",
    "choice_op=input(\"pick another operation from above\")\n",
    "num3=int(input(\"What is the second number\"))\n",
    "fun2=ope[choice_op]\n",
    "answer2=fun2(answer,num3)\n",
    "print(f\"{answer} {choice_op} {num3} = {answer2}\")\n",
    "\n"
   ]
  },
  {
   "cell_type": "code",
   "execution_count": 39,
   "metadata": {},
   "outputs": [
    {
     "name": "stdout",
     "output_type": "stream",
     "text": [
      "\n",
      " _____________________\n",
      "|  _________________  |\n",
      "| | Pythonista   0. | |  .----------------.  .----------------.  .----------------.  .----------------. \n",
      "| |_________________| | | .--------------. || .--------------. || .--------------. || .--------------. |\n",
      "|  ___ ___ ___   ___  | | |     ______   | || |      __      | || |   _____      | || |     ______   | |\n",
      "| | 7 | 8 | 9 | | + | | | |   .' ___  |  | || |     /  \\     | || |  |_   _|     | || |   .' ___  |  | |\n",
      "| |___|___|___| |___| | | |  / .'   \\_|  | || |    / /\\ \\    | || |    | |       | || |  / .'   \\_|  | |\n",
      "| | 4 | 5 | 6 | | - | | | |  | |         | || |   / ____ \\   | || |    | |   _   | || |  | |         | |\n",
      "| |___|___|___| |___| | | |  \\ `.___.'\\  | || | _/ /    \\ \\_ | || |   _| |__/ |  | || |  \\ `.___.'\\  | |\n",
      "| | 1 | 2 | 3 | | x | | | |   `._____.'  | || ||____|  |____|| || |  |________|  | || |   `._____.'  | |\n",
      "| |___|___|___| |___| | | |              | || |              | || |              | || |              | |\n",
      "| | . | 0 | = | | / | | | '--------------' || '--------------' || '--------------' || '--------------' |\n",
      "| |___|___|___| |___| |  '----------------'  '----------------'  '----------------'  '----------------' \n",
      "|_____________________|\n",
      "\n",
      "What is the first number1\n",
      "+\n",
      "-\n",
      "*\n",
      "/\n",
      "pick an operation /\n",
      "What is the next number3\n",
      "1.0 / 3.0 = 0.3333333333333333\n",
      "Type y to continue with the previous result to exit press nno\n"
     ]
    }
   ],
   "source": [
    "def calculator():\n",
    "        print(art.logo)\n",
    "        num1=float(input(\"What is the first number\"))\n",
    "        for key in ope:\n",
    "            print(key)\n",
    "\n",
    "        flag=True\n",
    "        while(flag):\n",
    "            choice_op=input(\"pick an operation \")\n",
    "            num2=float(input(\"What is the next number\"))\n",
    "            fun=ope[choice_op]\n",
    "            answer=fun(num1,num2)\n",
    "            print(f\"{num1} {choice_op} {num2} = {answer}\")\n",
    "            x=input(f\"Type y to continue with the previous result to exit press no and to start again press any key\")\n",
    "            if x==\"y\":\n",
    "                num1=answer\n",
    "            elif x==\"no\":\n",
    "                break\n",
    "\n",
    "            else:\n",
    "                clear_output()\n",
    "                flag=False\n",
    "                calculator()\n",
    "calculator()\n",
    "\n",
    "\n",
    "\n",
    "\n"
   ]
  },
  {
   "cell_type": "code",
   "execution_count": null,
   "metadata": {},
   "outputs": [],
   "source": []
  }
 ],
 "metadata": {
  "kernelspec": {
   "display_name": "Python 3",
   "language": "python",
   "name": "python3"
  },
  "language_info": {
   "codemirror_mode": {
    "name": "ipython",
    "version": 3
   },
   "file_extension": ".py",
   "mimetype": "text/x-python",
   "name": "python",
   "nbconvert_exporter": "python",
   "pygments_lexer": "ipython3",
   "version": "3.7.7"
  }
 },
 "nbformat": 4,
 "nbformat_minor": 4
}
