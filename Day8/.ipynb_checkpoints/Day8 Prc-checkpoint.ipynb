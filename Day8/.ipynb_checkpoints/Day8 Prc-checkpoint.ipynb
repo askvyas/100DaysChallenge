{
 "cells": [
  {
   "cell_type": "code",
   "execution_count": 5,
   "metadata": {},
   "outputs": [
    {
     "name": "stdout",
     "output_type": "stream",
     "text": [
      "Height of wall: 9\n",
      "Width of wall: 3\n"
     ]
    },
    {
     "data": {
      "text/plain": [
       "6"
      ]
     },
     "execution_count": 5,
     "metadata": {},
     "output_type": "execute_result"
    }
   ],
   "source": [
    "#functions\n",
    "import math\n",
    "def paint_calc(height,width,cover):\n",
    "    return math.ceil((height*width)/cover)\n",
    "test_h = int(input(\"Height of wall: \"))\n",
    "test_w = int(input(\"Width of wall: \"))\n",
    "coverage = 5\n",
    "paint_calc(height=test_h, width=test_w, cover=coverage)\n",
    "\n"
   ]
  },
  {
   "cell_type": "code",
   "execution_count": 14,
   "metadata": {},
   "outputs": [
    {
     "name": "stdout",
     "output_type": "stream",
     "text": [
      "Check this number: 13\n",
      "Prime number\n"
     ]
    }
   ],
   "source": [
    "#prime number checker\n",
    "def prime_checker(n):\n",
    "    val=True\n",
    "    for  i in range(2,n):\n",
    "        if((i!=1) and (i!=n)):\n",
    "            if n%i==0:\n",
    "                val=False\n",
    "    if val==False:\n",
    "        print(\"Not a prime number\")\n",
    "    else:\n",
    "        print(\"Prime number\")\n",
    "n = int(input(\"Check this number: \"))\n",
    "prime_checker(n=n)\n",
    "\n"
   ]
  },
  {
   "cell_type": "code",
   "execution_count": null,
   "metadata": {},
   "outputs": [],
   "source": []
  },
  {
   "cell_type": "code",
   "execution_count": null,
   "metadata": {},
   "outputs": [],
   "source": []
  }
 ],
 "metadata": {
  "kernelspec": {
   "display_name": "Python 3",
   "language": "python",
   "name": "python3"
  },
  "language_info": {
   "codemirror_mode": {
    "name": "ipython",
    "version": 3
   },
   "file_extension": ".py",
   "mimetype": "text/x-python",
   "name": "python",
   "nbconvert_exporter": "python",
   "pygments_lexer": "ipython3",
   "version": "3.7.7"
  }
 },
 "nbformat": 4,
 "nbformat_minor": 4
}
