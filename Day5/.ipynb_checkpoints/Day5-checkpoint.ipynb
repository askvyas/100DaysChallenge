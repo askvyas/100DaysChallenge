{
 "cells": [
  {
   "cell_type": "code",
   "execution_count": 50,
   "metadata": {},
   "outputs": [
    {
     "name": "stdout",
     "output_type": "stream",
     "text": [
      "Welcome to the PyPassword Generator!\n",
      "How many letters would you like in your password?\n",
      "2\n",
      "How many symbols would you like?\n",
      "2\n",
      "How many numbers would you like?\n",
      "2\n",
      "998!NU\n"
     ]
    }
   ],
   "source": [
    "#My Approach\n",
    "import random\n",
    "letters = ['a', 'b', 'c', 'd', 'e', 'f', 'g', 'h', 'i', 'j', 'k', 'l', 'm', 'n', 'o', 'p', 'q', 'r', 's', 't', 'u', 'v', 'w', 'x', 'y', 'z', 'A', 'B', 'C', 'D', 'E', 'F', 'G', 'H', 'I', 'J', 'K', 'L', 'M', 'N', 'O', 'P', 'Q', 'R', 'S', 'T', 'U', 'V', 'W', 'X', 'Y', 'Z']\n",
    "numbers = ['0', '1', '2', '3', '4', '5', '6', '7', '8', '9']\n",
    "symbols = ['!', '#', '$', '%', '&', '(', ')', '*', '+']\n",
    "\n",
    "print(\"Welcome to the PyPassword Generator!\")\n",
    "nr_letters= int(input(\"How many letters would you like in your password?\\n\")) \n",
    "nr_symbols = int(input(f\"How many symbols would you like?\\n\"))\n",
    "nr_numbers = int(input(f\"How many numbers would you like?\\n\"))\n",
    "re=nr_letters+nr_symbols+nr_numbers\n",
    "l=\"\"\n",
    "nl=0\n",
    "ns=0\n",
    "nn=0\n",
    "for i in range(0,re+1):\n",
    "    rd=random.randint(1,3)\n",
    "    if (rd==1) and (nl<=nr_letters):\n",
    "        l+=letters[random.randint(0,51)]\n",
    "        nl+=1\n",
    "    elif (rd==2) and (ns<=nr_symbols):\n",
    "        l+=symbols[random.randint(0,9)]\n",
    "        ns+=1\n",
    "    elif (rd==3) and (nn<=nr_numbers):\n",
    "        l+=numbers[random.randint(0,10)]\n",
    "        nn+=1\n",
    "        \n",
    "\n",
    "print(l)\n"
   ]
  },
  {
   "cell_type": "code",
   "execution_count": 53,
   "metadata": {},
   "outputs": [
    {
     "name": "stdout",
     "output_type": "stream",
     "text": [
      "Welcome to the PyPassword Generator!\n",
      "How many letters would you like in your password?\n",
      "2\n",
      "How many symbols would you like?\n",
      "2\n",
      "How many numbers would you like?\n",
      "2\n",
      "1R+y%3\n"
     ]
    }
   ],
   "source": [
    "#Instructor's Approach\n",
    "import random\n",
    "letters = ['a', 'b', 'c', 'd', 'e', 'f', 'g', 'h', 'i', 'j', 'k', 'l', 'm', 'n', 'o', 'p', 'q', 'r', 's', 't', 'u', 'v', 'w', 'x', 'y', 'z', 'A', 'B', 'C', 'D', 'E', 'F', 'G', 'H', 'I', 'J', 'K', 'L', 'M', 'N', 'O', 'P', 'Q', 'R', 'S', 'T', 'U', 'V', 'W', 'X', 'Y', 'Z']\n",
    "numbers = ['0', '1', '2', '3', '4', '5', '6', '7', '8', '9']\n",
    "symbols = ['!', '#', '$', '%', '&', '(', ')', '*', '+']\n",
    "\n",
    "print(\"Welcome to the PyPassword Generator!\")\n",
    "nr_letters= int(input(\"How many letters would you like in your password?\\n\")) \n",
    "nr_symbols = int(input(f\"How many symbols would you like?\\n\"))\n",
    "nr_numbers = int(input(f\"How many numbers would you like?\\n\"))\n",
    "l=[]\n",
    "for i in range(1,nr_letters+1):\n",
    "    l.append(random.choice(letters))\n",
    "for i in range(1,nr_symbols+1):\n",
    "    l.append(random.choice(symbols))\n",
    "for i in range(1,nr_numbers+1):\n",
    "    l.append(random.choice(numbers))\n",
    "random.shuffle(l)\n",
    "pwd=\"\"\n",
    "for i in l:\n",
    "    pwd+=i\n",
    "print(pwd)\n",
    "    "
   ]
  },
  {
   "cell_type": "code",
   "execution_count": null,
   "metadata": {},
   "outputs": [],
   "source": []
  },
  {
   "cell_type": "code",
   "execution_count": null,
   "metadata": {},
   "outputs": [],
   "source": []
  }
 ],
 "metadata": {
  "kernelspec": {
   "display_name": "Python 3",
   "language": "python",
   "name": "python3"
  },
  "language_info": {
   "codemirror_mode": {
    "name": "ipython",
    "version": 3
   },
   "file_extension": ".py",
   "mimetype": "text/x-python",
   "name": "python",
   "nbconvert_exporter": "python",
   "pygments_lexer": "ipython3",
   "version": "3.7.7"
  }
 },
 "nbformat": 4,
 "nbformat_minor": 4
}
